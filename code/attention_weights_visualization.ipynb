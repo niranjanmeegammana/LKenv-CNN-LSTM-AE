{
 "cells": [
  {
   "cell_type": "code",
   "execution_count": null,
   "id": "94e5afd4",
   "metadata": {},
   "outputs": [],
   "source": [
    "import numpy as np\n",
    "import matplotlib.pyplot as plt\n",
    "import seaborn as sns\n"
   ]
  },
  {
   "cell_type": "code",
   "execution_count": null,
   "id": "72d41871",
   "metadata": {},
   "outputs": [],
   "source": [
    "# Simulated attention weights: shape (1, 8)\n",
    "simulated_weights = np.array([[0.05, 0.08, 0.12, 0.15, 0.20, 0.18, 0.12, 0.10]])\n",
    "simulated_weights = simulated_weights.reshape(1, -1)  # shape (1, 8)\n"
   ]
  },
  {
   "cell_type": "code",
   "execution_count": null,
   "id": "3fcc7414",
   "metadata": {},
   "outputs": [],
   "source": [
    "# Plot the attention heatmap\n",
    "plt.figure(figsize=(8, 2))\n",
    "sns.heatmap(simulated_weights, cmap='YlGnBu', annot=True,\n",
    "            xticklabels=[f\"t-{i}\" for i in range(7, -1, -1)],\n",
    "            yticklabels=[\"Attention\"])\n",
    "plt.title(\"Simulated Attention Weights Across Time Steps\")\n",
    "plt.xlabel(\"Time Step\")\n",
    "plt.tight_layout()\n",
    "plt.show()\n"
   ]
  }
 ],
 "metadata": {},
 "nbformat": 4,
 "nbformat_minor": 5
}
